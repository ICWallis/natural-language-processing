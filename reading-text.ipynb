{
 "cells": [
  {
   "cell_type": "code",
   "execution_count": null,
   "metadata": {},
   "outputs": [],
   "source": []
  },
  {
   "cell_type": "code",
   "execution_count": 13,
   "metadata": {},
   "outputs": [
    {
     "name": "stdout",
     "output_type": "stream",
     "text": [
      "1\n"
     ]
    }
   ],
   "source": [
    "# Detect the number of times a word appears\n",
    "\n",
    "\n",
    "def count_string_occurrence(filename,string):\n",
    "    # opening a text file\n",
    "    with open(filename, mode='r') as f:\n",
    "    \n",
    "        index = 0\n",
    "        count = 0\n",
    "        \n",
    "        # Loop through the file line by line\n",
    "        for line in f:  \n",
    "            index = index + 1 \n",
    "            \n",
    "            # checking string is present in line or not\n",
    "            if string in line:\n",
    "                count = count + 1\n",
    "                \n",
    "    return count \n",
    "\n",
    "frequency = count_string_occurrence('sometext.txt','whatever when')\n",
    "print(frequency)"
   ]
  },
  {
   "cell_type": "code",
   "execution_count": 29,
   "metadata": {},
   "outputs": [],
   "source": [
    "# Detect the number of times a word appears\n",
    "def count_string_occurrence(filename,string):\n",
    "\n",
    "    count = 0\n",
    "\n",
    "    with open(filename, mode='r') as f:\n",
    "        text = f.read()\n",
    "        text = text.lower()\n",
    "        if string in text:\n",
    "            count = count + 1\n",
    "        #frequency = text.count('what') # this will count part words\n",
    "\n",
    "    return count\n",
    "\n"
   ]
  },
  {
   "cell_type": "code",
   "execution_count": null,
   "metadata": {},
   "outputs": [],
   "source": [
    "# count the number of words\n",
    "file = open(\"C:\\data.txt\", \"rt\")\n",
    "data = file.read()\n",
    "words = data.split()\n",
    "\n",
    "print('Number of words in text file :', len(words))"
   ]
  },
  {
   "cell_type": "code",
   "execution_count": 9,
   "metadata": {},
   "outputs": [
    {
     "name": "stdout",
     "output_type": "stream",
     "text": [
      "['a', 'and', 'end', 'in', 'is', 'list', 'live', 'never', 'nor', 'not', 'now', 'of', 'or', 'that', 'the', 'then', 'this', 'to', 'what', 'whatever', 'when', 'whenever']\n"
     ]
    }
   ],
   "source": [
    "# https://pythonexamples.org/python-find-unique-words-in-text-file/\n",
    "\n",
    "def list_of_unique_words(filename):\n",
    "\n",
    "    with open(filename, mode='r') as f:\n",
    "        text = f.read()\n",
    "\n",
    "        # cleaning text\n",
    "        text = text.lower() # convert to lower case\n",
    "        words = text.split() # split file into list of words\n",
    "        words = [word.strip('.,!;()[]') for word in words] # remove punctuation\n",
    "        words = [word.replace(\"'s\", '') for word in words] # remove plurals\n",
    "\n",
    "        # finding unique words\n",
    "        unique = []\n",
    "        for word in words:\n",
    "            if word not in unique:\n",
    "                unique.append(word)\n",
    "\n",
    "    # sort alphabetically \n",
    "    unique.sort()\n",
    "\n",
    "    return unique\n",
    "\n",
    "unique_words = list_of_unique_words('sometext.txt')"
   ]
  },
  {
   "cell_type": "code",
   "execution_count": 30,
   "metadata": {},
   "outputs": [
    {
     "name": "stdout",
     "output_type": "stream",
     "text": [
      "0\n"
     ]
    }
   ],
   "source": [
    "frequency = count_string_occurrence('ThePrincessBride.txt','As you wish')\n",
    "print(frequency)"
   ]
  },
  {
   "cell_type": "code",
   "execution_count": 31,
   "metadata": {},
   "outputs": [
    {
     "name": "stdout",
     "output_type": "stream",
     "text": [
      "0\n"
     ]
    }
   ],
   "source": [
    "frequency = count_string_occurrence('ThePrincessBride.txt','My name is Inigo Montoya')\n",
    "print(frequency)"
   ]
  },
  {
   "cell_type": "code",
   "execution_count": null,
   "metadata": {},
   "outputs": [],
   "source": []
  }
 ],
 "metadata": {
  "interpreter": {
   "hash": "c582afbba782c21e9b53adc4389234bd88ba080393bd7d8b012d9080c2a82aeb"
  },
  "kernelspec": {
   "display_name": "Python 3.8.8 ('base')",
   "language": "python",
   "name": "python3"
  },
  "language_info": {
   "codemirror_mode": {
    "name": "ipython",
    "version": 3
   },
   "file_extension": ".py",
   "mimetype": "text/x-python",
   "name": "python",
   "nbconvert_exporter": "python",
   "pygments_lexer": "ipython3",
   "version": "3.8.8"
  },
  "orig_nbformat": 4
 },
 "nbformat": 4,
 "nbformat_minor": 2
}
